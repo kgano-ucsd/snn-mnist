{
 "cells": [
  {
   "cell_type": "code",
   "execution_count": 4,
   "metadata": {},
   "outputs": [],
   "source": [
    "import torch\n",
    "import numpy as np\n",
    "from torchvision import datasets\n",
    "import torchvision.transforms as transforms"
   ]
  },
  {
   "cell_type": "code",
   "execution_count": 5,
   "metadata": {},
   "outputs": [],
   "source": [
    "# number of subprocesses to use for data loading\n",
    "num_workers = 0\n",
    "# how many samples per batch to load\n",
    "batch_size = 20\n",
    "\n",
    "# convert data to torch.FloatTensor\n",
    "transform = transforms.ToTensor()\n",
    "\n",
    "# choose the training and test datasets\n",
    "train_data = datasets.MNIST(root='data', train=True,\n",
    "                                   download=False, transform=transform)\n",
    "test_data = datasets.MNIST(root='data', train=False,\n",
    "                                  download=False, transform=transform)\n",
    "\n",
    "# prepare data loaders\n",
    "train_loader = torch.utils.data.DataLoader(train_data, batch_size=batch_size,\n",
    "    num_workers=num_workers)\n",
    "test_loader = torch.utils.data.DataLoader(test_data, batch_size=batch_size, \n",
    "    num_workers=num_workers)"
   ]
  },
  {
   "cell_type": "code",
   "execution_count": 6,
   "metadata": {},
   "outputs": [
    {
     "name": "stdout",
     "output_type": "stream",
     "text": [
      "kamnist(\n",
      "  (fc1): Linear(in_features=784, out_features=512, bias=True)\n",
      "  (fc2): Linear(in_features=512, out_features=512, bias=True)\n",
      "  (fc3): Linear(in_features=512, out_features=10, bias=True)\n",
      "  (dropout): Dropout(p=0.2, inplace=False)\n",
      ")\n"
     ]
    }
   ],
   "source": [
    "import torch.nn as nn\n",
    "import torch.nn.functional as F\n",
    "\n",
    "class kamnist(nn.Module):\n",
    "    def __init__(self):\n",
    "        super(kamnist, self).__init__()\n",
    "        self.IMAGE_SIZE = 784\n",
    "        self.FC2_SIZE = 512\n",
    "        self.OUTPUT_SIZE = 10\n",
    "        self.fc1 = nn.Linear(self.IMAGE_SIZE, self.FC2_SIZE)\n",
    "        self.fc2 = nn.Linear(self.FC2_SIZE, self.FC2_SIZE)\n",
    "        self.fc3 = nn.Linear(self.FC2_SIZE, self.OUTPUT_SIZE)\n",
    "        self.dropout = nn.Dropout(0.2)\n",
    "    def forward(self, x):\n",
    "        # flatten x\n",
    "        x = x.view(-1, self.IMAGE_SIZE)\n",
    "        x = F.relu(self.fc1(x))\n",
    "\n",
    "        return x\n",
    "model = kamnist()\n",
    "print(model)"
   ]
  },
  {
   "cell_type": "code",
   "execution_count": 7,
   "metadata": {},
   "outputs": [],
   "source": [
    "criterion = nn.CrossEntropyLoss()\n",
    "optimizer = torch.optim.SGD(model.parameters(), lr=0.01)"
   ]
  },
  {
   "cell_type": "code",
   "execution_count": 8,
   "metadata": {},
   "outputs": [
    {
     "name": "stdout",
     "output_type": "stream",
     "text": [
      "Epoch: 1 \tTraining Loss: 0.788385\n",
      "Epoch: 2 \tTraining Loss: 0.411809\n",
      "Epoch: 3 \tTraining Loss: 0.370197\n",
      "Epoch: 4 \tTraining Loss: 0.349081\n",
      "Epoch: 5 \tTraining Loss: 0.335611\n",
      "Epoch: 6 \tTraining Loss: 0.326016\n",
      "Epoch: 7 \tTraining Loss: 0.318713\n",
      "Epoch: 8 \tTraining Loss: 0.312905\n",
      "Epoch: 9 \tTraining Loss: 0.308136\n",
      "Epoch: 10 \tTraining Loss: 0.304124\n",
      "Epoch: 11 \tTraining Loss: 0.300684\n",
      "Epoch: 12 \tTraining Loss: 0.297690\n",
      "Epoch: 13 \tTraining Loss: 0.295050\n",
      "Epoch: 14 \tTraining Loss: 0.292698\n",
      "Epoch: 15 \tTraining Loss: 0.290584\n",
      "Epoch: 16 \tTraining Loss: 0.288668\n",
      "Epoch: 17 \tTraining Loss: 0.286920\n",
      "Epoch: 18 \tTraining Loss: 0.285317\n",
      "Epoch: 19 \tTraining Loss: 0.283838\n",
      "Epoch: 20 \tTraining Loss: 0.282467\n",
      "Epoch: 21 \tTraining Loss: 0.281192\n",
      "Epoch: 22 \tTraining Loss: 0.280001\n",
      "Epoch: 23 \tTraining Loss: 0.278885\n",
      "Epoch: 24 \tTraining Loss: 0.277836\n",
      "Epoch: 25 \tTraining Loss: 0.276847\n",
      "Epoch: 26 \tTraining Loss: 0.275913\n",
      "Epoch: 27 \tTraining Loss: 0.275028\n",
      "Epoch: 28 \tTraining Loss: 0.274188\n",
      "Epoch: 29 \tTraining Loss: 0.273389\n",
      "Epoch: 30 \tTraining Loss: 0.272627\n",
      "Epoch: 31 \tTraining Loss: 0.271900\n",
      "Epoch: 32 \tTraining Loss: 0.271205\n",
      "Epoch: 33 \tTraining Loss: 0.270540\n",
      "Epoch: 34 \tTraining Loss: 0.269901\n",
      "Epoch: 35 \tTraining Loss: 0.269288\n"
     ]
    }
   ],
   "source": [
    "EPOCHS = 35\n",
    "model.train()\n",
    "for EPOCH in range(EPOCHS):\n",
    "    train_loss = 0.0\n",
    "    for data, target in train_loader:\n",
    "         optimizer.zero_grad()\n",
    "         output = model(data)\n",
    "         loss = criterion(output, target)\n",
    "         loss.backward()\n",
    "         optimizer.step()\n",
    "         train_loss += loss.item()*data.size(0)\n",
    "\n",
    "    # print training statistics \n",
    "    # calculate average loss over an epoch\n",
    "    train_loss = train_loss/len(train_loader.dataset)\n",
    "\n",
    "    print('Epoch: {} \\tTraining Loss: {:.6f}'.format(\n",
    "        EPOCH+1, \n",
    "        train_loss\n",
    "        ))"
   ]
  },
  {
   "cell_type": "code",
   "execution_count": 9,
   "metadata": {},
   "outputs": [
    {
     "name": "stdout",
     "output_type": "stream",
     "text": [
      "Test Loss: 0.272427\n",
      "\n",
      "Test Accuracy of     0: 98% (962/980)\n",
      "Test Accuracy of     1: 97% (1110/1135)\n",
      "Test Accuracy of     2: 88% (918/1032)\n",
      "Test Accuracy of     3: 90% (914/1010)\n",
      "Test Accuracy of     4: 92% (911/982)\n",
      "Test Accuracy of     5: 87% (782/892)\n",
      "Test Accuracy of     6: 94% (909/958)\n",
      "Test Accuracy of     7: 92% (946/1028)\n",
      "Test Accuracy of     8: 88% (864/974)\n",
      "Test Accuracy of     9: 90% (918/1009)\n",
      "\n",
      "Test Accuracy (Overall): 92% (9234/10000)\n"
     ]
    }
   ],
   "source": [
    "# initialize lists to monitor test loss and accuracy\n",
    "test_loss = 0.0\n",
    "class_correct = list(0. for i in range(10))\n",
    "class_total = list(0. for i in range(10))\n",
    "\n",
    "model.eval() # prep model for *evaluation*\n",
    "\n",
    "for data, target in test_loader:\n",
    "    # forward pass: compute predicted outputs by passing inputs to the model\n",
    "    output = model(data)\n",
    "    # calculate the loss\n",
    "    loss = criterion(output, target)\n",
    "    # update test loss \n",
    "    test_loss += loss.item()*data.size(0)\n",
    "    # convert output probabilities to predicted class\n",
    "    _, pred = torch.max(output, 1)\n",
    "    # compare predictions to true label\n",
    "    correct = np.squeeze(pred.eq(target.data.view_as(pred)))\n",
    "    # calculate test accuracy for each object class\n",
    "    for i in range(batch_size):\n",
    "        label = target.data[i]\n",
    "        class_correct[label] += correct[i].item()\n",
    "        class_total[label] += 1\n",
    "\n",
    "# calculate and print avg test loss\n",
    "test_loss = test_loss/len(test_loader.dataset)\n",
    "print('Test Loss: {:.6f}\\n'.format(test_loss))\n",
    "\n",
    "for i in range(10):\n",
    "    if class_total[i] > 0:\n",
    "        print('Test Accuracy of %5s: %2d%% (%2d/%2d)' % (\n",
    "            str(i), 100 * class_correct[i] / class_total[i],\n",
    "            np.sum(class_correct[i]), np.sum(class_total[i])))\n",
    "    else:\n",
    "        print('Test Accuracy of %5s: N/A (no training examples)' % (classes[i]))\n",
    "\n",
    "print('\\nTest Accuracy (Overall): %2d%% (%2d/%2d)' % (\n",
    "    100. * np.sum(class_correct) / np.sum(class_total),\n",
    "    np.sum(class_correct), np.sum(class_total)))"
   ]
  }
 ],
 "metadata": {
  "kernelspec": {
   "display_name": "Python 3.8.13 ('torch')",
   "language": "python",
   "name": "python3"
  },
  "language_info": {
   "codemirror_mode": {
    "name": "ipython",
    "version": 3
   },
   "file_extension": ".py",
   "mimetype": "text/x-python",
   "name": "python",
   "nbconvert_exporter": "python",
   "pygments_lexer": "ipython3",
   "version": "3.8.15"
  },
  "orig_nbformat": 4,
  "vscode": {
   "interpreter": {
    "hash": "7288f315087fdb0a15835a979a50c8db3e0e21492381bafafe9d84f995bbb7dd"
   }
  }
 },
 "nbformat": 4,
 "nbformat_minor": 2
}
