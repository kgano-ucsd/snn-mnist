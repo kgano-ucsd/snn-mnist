{
 "cells": [
  {
   "cell_type": "code",
   "execution_count": 1,
   "metadata": {},
   "outputs": [],
   "source": [
    "import torch\n",
    "import numpy as np\n",
    "from torchvision import datasets\n",
    "import torchvision.transforms as transforms"
   ]
  },
  {
   "cell_type": "code",
   "execution_count": 2,
   "metadata": {},
   "outputs": [
    {
     "name": "stdout",
     "output_type": "stream",
     "text": [
      "Downloading http://yann.lecun.com/exdb/mnist/train-images-idx3-ubyte.gz\n",
      "Downloading http://yann.lecun.com/exdb/mnist/train-images-idx3-ubyte.gz to data/MNIST/raw/train-images-idx3-ubyte.gz\n"
     ]
    },
    {
     "name": "stderr",
     "output_type": "stream",
     "text": [
      "100.0%\n"
     ]
    },
    {
     "name": "stdout",
     "output_type": "stream",
     "text": [
      "Extracting data/MNIST/raw/train-images-idx3-ubyte.gz to data/MNIST/raw\n",
      "\n",
      "Downloading http://yann.lecun.com/exdb/mnist/train-labels-idx1-ubyte.gz\n",
      "Downloading http://yann.lecun.com/exdb/mnist/train-labels-idx1-ubyte.gz to data/MNIST/raw/train-labels-idx1-ubyte.gz\n"
     ]
    },
    {
     "name": "stderr",
     "output_type": "stream",
     "text": [
      "100.0%\n",
      "4.0%"
     ]
    },
    {
     "name": "stdout",
     "output_type": "stream",
     "text": [
      "Extracting data/MNIST/raw/train-labels-idx1-ubyte.gz to data/MNIST/raw\n",
      "\n",
      "Downloading http://yann.lecun.com/exdb/mnist/t10k-images-idx3-ubyte.gz\n",
      "Downloading http://yann.lecun.com/exdb/mnist/t10k-images-idx3-ubyte.gz to data/MNIST/raw/t10k-images-idx3-ubyte.gz\n"
     ]
    },
    {
     "name": "stderr",
     "output_type": "stream",
     "text": [
      "100.0%\n",
      "100.0%\n"
     ]
    },
    {
     "name": "stdout",
     "output_type": "stream",
     "text": [
      "Extracting data/MNIST/raw/t10k-images-idx3-ubyte.gz to data/MNIST/raw\n",
      "\n",
      "Downloading http://yann.lecun.com/exdb/mnist/t10k-labels-idx1-ubyte.gz\n",
      "Downloading http://yann.lecun.com/exdb/mnist/t10k-labels-idx1-ubyte.gz to data/MNIST/raw/t10k-labels-idx1-ubyte.gz\n",
      "Extracting data/MNIST/raw/t10k-labels-idx1-ubyte.gz to data/MNIST/raw\n",
      "\n"
     ]
    }
   ],
   "source": [
    "# number of subprocesses to use for data loading\n",
    "num_workers = 0\n",
    "# how many samples per batch to load\n",
    "batch_size = 20\n",
    "\n",
    "# convert data to torch.FloatTensor\n",
    "transform = transforms.ToTensor()\n",
    "\n",
    "# choose the training and test datasets\n",
    "train_data = datasets.MNIST(root='data', train=True,\n",
    "                                   download=True, transform=transform)\n",
    "test_data = datasets.MNIST(root='data', train=False,\n",
    "                                  download=True, transform=transform)\n",
    "\n",
    "# prepare data loaders\n",
    "train_loader = torch.utils.data.DataLoader(train_data, batch_size=batch_size,\n",
    "    num_workers=num_workers)\n",
    "test_loader = torch.utils.data.DataLoader(test_data, batch_size=batch_size, \n",
    "    num_workers=num_workers)"
   ]
  },
  {
   "cell_type": "code",
   "execution_count": 8,
   "metadata": {},
   "outputs": [
    {
     "name": "stdout",
     "output_type": "stream",
     "text": [
      "kamnist(\n",
      "  (fc1): Linear(in_features=784, out_features=512, bias=True)\n",
      "  (fc2): Linear(in_features=512, out_features=512, bias=True)\n",
      "  (fc3): Linear(in_features=512, out_features=10, bias=True)\n",
      "  (dropout): Dropout(p=0.2, inplace=False)\n",
      ")\n"
     ]
    }
   ],
   "source": [
    "import torch.nn as nn\n",
    "import torch.nn.functional as F\n",
    "\n",
    "class kamnist(nn.Module):\n",
    "    def __init__(self):\n",
    "        super(kamnist, self).__init__()\n",
    "        self.IMAGE_SIZE = 784\n",
    "        self.FC2_SIZE = 512\n",
    "        self.OUTPUT_SIZE = 10\n",
    "        self.fc1 = nn.Linear(self.IMAGE_SIZE, self.FC2_SIZE)\n",
    "        self.fc2 = nn.Linear(self.FC2_SIZE, self.FC2_SIZE)\n",
    "        self.fc3 = nn.Linear(self.FC2_SIZE, self.OUTPUT_SIZE)\n",
    "        self.dropout = nn.Dropout(0.2)\n",
    "    def forward(self, x):\n",
    "        # flatten x\n",
    "        x = x.view(-1, self.IMAGE_SIZE)\n",
    "        x = F.relu(self.fc1(x))\n",
    "\n",
    "        return x\n",
    "model = kamnist()\n",
    "print(model)"
   ]
  },
  {
   "cell_type": "code",
   "execution_count": 9,
   "metadata": {},
   "outputs": [],
   "source": [
    "criterion = nn.CrossEntropyLoss()\n",
    "optimizer = torch.optim.SGD(model.parameters(), lr=0.01)"
   ]
  },
  {
   "cell_type": "code",
   "execution_count": 10,
   "metadata": {},
   "outputs": [
    {
     "name": "stdout",
     "output_type": "stream",
     "text": [
      "Epoch: 1 \tTraining Loss: 0.799465\n",
      "Epoch: 2 \tTraining Loss: 0.412178\n",
      "Epoch: 3 \tTraining Loss: 0.370368\n",
      "Epoch: 4 \tTraining Loss: 0.349176\n",
      "Epoch: 5 \tTraining Loss: 0.335669\n",
      "Epoch: 6 \tTraining Loss: 0.326052\n",
      "Epoch: 7 \tTraining Loss: 0.318737\n",
      "Epoch: 8 \tTraining Loss: 0.312919\n",
      "Epoch: 9 \tTraining Loss: 0.308142\n",
      "Epoch: 10 \tTraining Loss: 0.304123\n",
      "Epoch: 11 \tTraining Loss: 0.300679\n",
      "Epoch: 12 \tTraining Loss: 0.297680\n",
      "Epoch: 13 \tTraining Loss: 0.295036\n",
      "Epoch: 14 \tTraining Loss: 0.292680\n",
      "Epoch: 15 \tTraining Loss: 0.290563\n",
      "Epoch: 16 \tTraining Loss: 0.288644\n",
      "Epoch: 17 \tTraining Loss: 0.286894\n",
      "Epoch: 18 \tTraining Loss: 0.285289\n",
      "Epoch: 19 \tTraining Loss: 0.283808\n",
      "Epoch: 20 \tTraining Loss: 0.282436\n",
      "Epoch: 21 \tTraining Loss: 0.281159\n",
      "Epoch: 22 \tTraining Loss: 0.279967\n",
      "Epoch: 23 \tTraining Loss: 0.278850\n",
      "Epoch: 24 \tTraining Loss: 0.277801\n",
      "Epoch: 25 \tTraining Loss: 0.276811\n",
      "Epoch: 26 \tTraining Loss: 0.275876\n",
      "Epoch: 27 \tTraining Loss: 0.274991\n",
      "Epoch: 28 \tTraining Loss: 0.274151\n",
      "Epoch: 29 \tTraining Loss: 0.273351\n",
      "Epoch: 30 \tTraining Loss: 0.272590\n",
      "Epoch: 31 \tTraining Loss: 0.271863\n"
     ]
    }
   ],
   "source": [
    "EPOCHS = 35\n",
    "model.train()\n",
    "for EPOCH in range(EPOCHS):\n",
    "    train_loss = 0.0\n",
    "    for data, target in train_loader:\n",
    "         optimizer.zero_grad()\n",
    "         output = model(data)\n",
    "         loss = criterion(output, target)\n",
    "         loss.backward()\n",
    "         optimizer.step()\n",
    "         train_loss += loss.item()*data.size(0)\n",
    "\n",
    "    # print training statistics \n",
    "    # calculate average loss over an epoch\n",
    "    train_loss = train_loss/len(train_loader.dataset)\n",
    "\n",
    "    print('Epoch: {} \\tTraining Loss: {:.6f}'.format(\n",
    "        EPOCH+1, \n",
    "        train_loss\n",
    "        ))"
   ]
  }
 ],
 "metadata": {
  "kernelspec": {
   "display_name": "Python 3.8.13 ('torch')",
   "language": "python",
   "name": "python3"
  },
  "language_info": {
   "codemirror_mode": {
    "name": "ipython",
    "version": 3
   },
   "file_extension": ".py",
   "mimetype": "text/x-python",
   "name": "python",
   "nbconvert_exporter": "python",
   "pygments_lexer": "ipython3",
   "version": "3.8.13"
  },
  "orig_nbformat": 4,
  "vscode": {
   "interpreter": {
    "hash": "7288f315087fdb0a15835a979a50c8db3e0e21492381bafafe9d84f995bbb7dd"
   }
  }
 },
 "nbformat": 4,
 "nbformat_minor": 2
}
