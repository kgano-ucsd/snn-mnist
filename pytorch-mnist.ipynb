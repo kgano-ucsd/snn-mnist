{
 "cells": [
  {
   "cell_type": "code",
   "execution_count": 9,
   "metadata": {},
   "outputs": [],
   "source": [
    "import torch\n",
    "import numpy as np\n",
    "from torchvision import datasets\n",
    "import torchvision.transforms as transforms"
   ]
  },
  {
   "cell_type": "code",
   "execution_count": 10,
   "metadata": {},
   "outputs": [
    {
     "name": "stdout",
     "output_type": "stream",
     "text": [
      "Downloading http://yann.lecun.com/exdb/mnist/train-images-idx3-ubyte.gz\n",
      "Downloading http://yann.lecun.com/exdb/mnist/train-images-idx3-ubyte.gz to data/MNIST/raw/train-images-idx3-ubyte.gz\n"
     ]
    },
    {
     "data": {
      "application/vnd.jupyter.widget-view+json": {
       "model_id": "452571ebcd8647f6a92ccffcf82c704a",
       "version_major": 2,
       "version_minor": 0
      },
      "text/plain": [
       "  0%|          | 0/9912422 [00:00<?, ?it/s]"
      ]
     },
     "metadata": {},
     "output_type": "display_data"
    },
    {
     "name": "stdout",
     "output_type": "stream",
     "text": [
      "Extracting data/MNIST/raw/train-images-idx3-ubyte.gz to data/MNIST/raw\n",
      "\n",
      "Downloading http://yann.lecun.com/exdb/mnist/train-labels-idx1-ubyte.gz\n",
      "Downloading http://yann.lecun.com/exdb/mnist/train-labels-idx1-ubyte.gz to data/MNIST/raw/train-labels-idx1-ubyte.gz\n"
     ]
    },
    {
     "data": {
      "application/vnd.jupyter.widget-view+json": {
       "model_id": "513610daf3324829afc2ac50adb258c6",
       "version_major": 2,
       "version_minor": 0
      },
      "text/plain": [
       "  0%|          | 0/28881 [00:00<?, ?it/s]"
      ]
     },
     "metadata": {},
     "output_type": "display_data"
    },
    {
     "name": "stdout",
     "output_type": "stream",
     "text": [
      "Extracting data/MNIST/raw/train-labels-idx1-ubyte.gz to data/MNIST/raw\n",
      "\n",
      "Downloading http://yann.lecun.com/exdb/mnist/t10k-images-idx3-ubyte.gz\n",
      "Downloading http://yann.lecun.com/exdb/mnist/t10k-images-idx3-ubyte.gz to data/MNIST/raw/t10k-images-idx3-ubyte.gz\n"
     ]
    },
    {
     "data": {
      "application/vnd.jupyter.widget-view+json": {
       "model_id": "5cd007235af940ee8bcd9917b1ce5732",
       "version_major": 2,
       "version_minor": 0
      },
      "text/plain": [
       "  0%|          | 0/1648877 [00:00<?, ?it/s]"
      ]
     },
     "metadata": {},
     "output_type": "display_data"
    },
    {
     "name": "stdout",
     "output_type": "stream",
     "text": [
      "Extracting data/MNIST/raw/t10k-images-idx3-ubyte.gz to data/MNIST/raw\n",
      "\n",
      "Downloading http://yann.lecun.com/exdb/mnist/t10k-labels-idx1-ubyte.gz\n",
      "Downloading http://yann.lecun.com/exdb/mnist/t10k-labels-idx1-ubyte.gz to data/MNIST/raw/t10k-labels-idx1-ubyte.gz\n"
     ]
    },
    {
     "data": {
      "application/vnd.jupyter.widget-view+json": {
       "model_id": "cd34b8dbb89f40f0b1af1f95c65da2de",
       "version_major": 2,
       "version_minor": 0
      },
      "text/plain": [
       "  0%|          | 0/4542 [00:00<?, ?it/s]"
      ]
     },
     "metadata": {},
     "output_type": "display_data"
    },
    {
     "name": "stdout",
     "output_type": "stream",
     "text": [
      "Extracting data/MNIST/raw/t10k-labels-idx1-ubyte.gz to data/MNIST/raw\n",
      "\n"
     ]
    }
   ],
   "source": [
    "# number of subprocesses to use for data loading\n",
    "num_workers = 0\n",
    "# how many samples per batch to load\n",
    "batch_size = 20\n",
    "\n",
    "# convert data to torch.FloatTensor\n",
    "transform = transforms.ToTensor()\n",
    "\n",
    "# choose the training and test datasets\n",
    "train_data = datasets.MNIST(root='data', train=True,\n",
    "                                   download=True, transform=transform)\n",
    "test_data = datasets.MNIST(root='data', train=False,\n",
    "                                  download=True, transform=transform)\n",
    "\n",
    "# prepare data loaders\n",
    "train_loader = torch.utils.data.DataLoader(train_data, batch_size=batch_size,\n",
    "    num_workers=num_workers)\n",
    "test_loader = torch.utils.data.DataLoader(test_data, batch_size=batch_size, \n",
    "    num_workers=num_workers)"
   ]
  },
  {
   "cell_type": "code",
   "execution_count": 11,
   "metadata": {},
   "outputs": [
    {
     "name": "stdout",
     "output_type": "stream",
     "text": [
      "kamnist(\n",
      "  (fc1): Linear(in_features=784, out_features=512, bias=True)\n",
      "  (fc2): Linear(in_features=512, out_features=512, bias=True)\n",
      "  (fc3): Linear(in_features=512, out_features=256, bias=True)\n",
      "  (fc4): Linear(in_features=128, out_features=10, bias=True)\n",
      "  (dropout): Dropout(p=0.2, inplace=False)\n",
      ")\n"
     ]
    }
   ],
   "source": [
    "import torch.nn as nn\n",
    "import torch.nn.functional as F\n",
    "\n",
    "class kamnist(nn.Module):\n",
    "    def __init__(self):\n",
    "        super(kamnist, self).__init__()\n",
    "        self.IMAGE_SIZE = 784\n",
    "        self.FC2_SIZE = 512\n",
    "        self.OUTPUT_SIZE = 10\n",
    "        self.fc1 = nn.Linear(self.IMAGE_SIZE, self.FC2_SIZE)\n",
    "        self.fc2 = nn.Linear(self.FC2_SIZE, self.FC2_SIZE)\n",
    "        self.fc3 = nn.Linear(self.FC2_SIZE, 256)\n",
    "        self.fc4 = nn.Linear(256, 128)\n",
    "        self.fc4 = nn.Linear(128, self.OUTPUT_SIZE)\n",
    "        self.dropout = nn.Dropout(0.2)\n",
    "    def forward(self, x):\n",
    "        # flatten x\n",
    "        x = x.view(-1, self.IMAGE_SIZE)\n",
    "        x = F.relu(self.fc1(x))\n",
    "\n",
    "        return x\n",
    "model = kamnist()\n",
    "print(model)"
   ]
  },
  {
   "cell_type": "code",
   "execution_count": 12,
   "metadata": {},
   "outputs": [],
   "source": [
    "criterion = nn.CrossEntropyLoss()\n",
    "optimizer = torch.optim.SGD(model.parameters(), lr=0.01)"
   ]
  },
  {
   "cell_type": "code",
   "execution_count": 13,
   "metadata": {},
   "outputs": [
    {
     "name": "stdout",
     "output_type": "stream",
     "text": [
      "Epoch: 1 \tTraining Loss: 0.998775\n",
      "Epoch: 2 \tTraining Loss: 0.414624\n",
      "Epoch: 3 \tTraining Loss: 0.371115\n",
      "Epoch: 4 \tTraining Loss: 0.349557\n",
      "Epoch: 5 \tTraining Loss: 0.335909\n",
      "Epoch: 6 \tTraining Loss: 0.326222\n",
      "Epoch: 7 \tTraining Loss: 0.318866\n",
      "Epoch: 8 \tTraining Loss: 0.313022\n",
      "Epoch: 9 \tTraining Loss: 0.308227\n",
      "Epoch: 10 \tTraining Loss: 0.304197\n",
      "Epoch: 11 \tTraining Loss: 0.300742\n",
      "Epoch: 12 \tTraining Loss: 0.297736\n",
      "Epoch: 13 \tTraining Loss: 0.295087\n",
      "Epoch: 14 \tTraining Loss: 0.292726\n",
      "Epoch: 15 \tTraining Loss: 0.290604\n",
      "Epoch: 16 \tTraining Loss: 0.288682\n",
      "Epoch: 17 \tTraining Loss: 0.286929\n",
      "Epoch: 18 \tTraining Loss: 0.285320\n",
      "Epoch: 19 \tTraining Loss: 0.283837\n",
      "Epoch: 20 \tTraining Loss: 0.282463\n",
      "Epoch: 21 \tTraining Loss: 0.281184\n",
      "Epoch: 22 \tTraining Loss: 0.279990\n",
      "Epoch: 23 \tTraining Loss: 0.278871\n",
      "Epoch: 24 \tTraining Loss: 0.277819\n",
      "Epoch: 25 \tTraining Loss: 0.276828\n",
      "Epoch: 26 \tTraining Loss: 0.275892\n",
      "Epoch: 27 \tTraining Loss: 0.275005\n",
      "Epoch: 28 \tTraining Loss: 0.274163\n",
      "Epoch: 29 \tTraining Loss: 0.273362\n",
      "Epoch: 30 \tTraining Loss: 0.272599\n",
      "Epoch: 31 \tTraining Loss: 0.271871\n",
      "Epoch: 32 \tTraining Loss: 0.271175\n",
      "Epoch: 33 \tTraining Loss: 0.270508\n",
      "Epoch: 34 \tTraining Loss: 0.269869\n",
      "Epoch: 35 \tTraining Loss: 0.269255\n"
     ]
    }
   ],
   "source": [
    "EPOCHS = 35\n",
    "model.train()\n",
    "for EPOCH in range(EPOCHS):\n",
    "    train_loss = 0.0\n",
    "    for data, target in train_loader:\n",
    "         optimizer.zero_grad()\n",
    "         output = model(data)\n",
    "         loss = criterion(output, target)\n",
    "         loss.backward()\n",
    "         optimizer.step()\n",
    "         train_loss += loss.item()*data.size(0)\n",
    "\n",
    "    # print training statistics \n",
    "    # calculate average loss over an epoch\n",
    "    train_loss = train_loss/len(train_loader.dataset)\n",
    "\n",
    "    print('Epoch: {} \\tTraining Loss: {:.6f}'.format(\n",
    "        EPOCH+1, \n",
    "        train_loss\n",
    "        ))"
   ]
  },
  {
   "cell_type": "code",
   "execution_count": 14,
   "metadata": {},
   "outputs": [
    {
     "name": "stdout",
     "output_type": "stream",
     "text": [
      "Test Loss: 0.272363\n",
      "\n",
      "Test Accuracy of     0: 98% (962/980)\n",
      "Test Accuracy of     1: 97% (1110/1135)\n",
      "Test Accuracy of     2: 89% (920/1032)\n",
      "Test Accuracy of     3: 90% (916/1010)\n",
      "Test Accuracy of     4: 92% (911/982)\n",
      "Test Accuracy of     5: 87% (783/892)\n",
      "Test Accuracy of     6: 94% (909/958)\n",
      "Test Accuracy of     7: 91% (945/1028)\n",
      "Test Accuracy of     8: 88% (865/974)\n",
      "Test Accuracy of     9: 90% (917/1009)\n",
      "\n",
      "Test Accuracy (Overall): 92% (9238/10000)\n"
     ]
    }
   ],
   "source": [
    "# initialize lists to monitor test loss and accuracy\n",
    "test_loss = 0.0\n",
    "class_correct = list(0. for i in range(10))\n",
    "class_total = list(0. for i in range(10))\n",
    "\n",
    "model.eval() # prep model for *evaluation*\n",
    "\n",
    "for data, target in test_loader:\n",
    "    # forward pass: compute predicted outputs by passing inputs to the model\n",
    "    output = model(data)\n",
    "    # calculate the loss\n",
    "    loss = criterion(output, target)\n",
    "    # update test loss \n",
    "    test_loss += loss.item()*data.size(0)\n",
    "    # convert output probabilities to predicted class\n",
    "    _, pred = torch.max(output, 1)\n",
    "    # compare predictions to true label\n",
    "    correct = np.squeeze(pred.eq(target.data.view_as(pred)))\n",
    "    # calculate test accuracy for each object class\n",
    "    for i in range(batch_size):\n",
    "        label = target.data[i]\n",
    "        class_correct[label] += correct[i].item()\n",
    "        class_total[label] += 1\n",
    "\n",
    "# calculate and print avg test loss\n",
    "test_loss = test_loss/len(test_loader.dataset)\n",
    "print('Test Loss: {:.6f}\\n'.format(test_loss))\n",
    "\n",
    "for i in range(10):\n",
    "    if class_total[i] > 0:\n",
    "        print('Test Accuracy of %5s: %2d%% (%2d/%2d)' % (\n",
    "            str(i), 100 * class_correct[i] / class_total[i],\n",
    "            np.sum(class_correct[i]), np.sum(class_total[i])))\n",
    "    else:\n",
    "        print('Test Accuracy of %5s: N/A (no training examples)' % (classes[i]))\n",
    "\n",
    "print('\\nTest Accuracy (Overall): %2d%% (%2d/%2d)' % (\n",
    "    100. * np.sum(class_correct) / np.sum(class_total),\n",
    "    np.sum(class_correct), np.sum(class_total)))"
   ]
  }
 ],
 "metadata": {
  "kernelspec": {
   "display_name": "Python 3.8.13 ('torch')",
   "language": "python",
   "name": "python3"
  },
  "language_info": {
   "codemirror_mode": {
    "name": "ipython",
    "version": 3
   },
   "file_extension": ".py",
   "mimetype": "text/x-python",
   "name": "python",
   "nbconvert_exporter": "python",
   "pygments_lexer": "ipython3",
   "version": "3.8.15"
  },
  "orig_nbformat": 4,
  "vscode": {
   "interpreter": {
    "hash": "7288f315087fdb0a15835a979a50c8db3e0e21492381bafafe9d84f995bbb7dd"
   }
  }
 },
 "nbformat": 4,
 "nbformat_minor": 2
}
